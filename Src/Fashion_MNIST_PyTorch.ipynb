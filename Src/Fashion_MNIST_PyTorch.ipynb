{
 "cells": [
  {
   "cell_type": "code",
   "execution_count": 2,
   "id": "efc39334",
   "metadata": {},
   "outputs": [
    {
     "name": "stdout",
     "output_type": "stream",
     "text": [
      "<class 'PIL.Image.Image'> 9\n"
     ]
    }
   ],
   "source": [
    "from torchvision.datasets import FashionMNIST\n",
    "trainset = FashionMNIST(root='Data',\n",
    "                        train=True,\n",
    "                        download=True)\n",
    "\n",
    "img, label = trainset[0]\n",
    "print(type(img), label)"
   ]
  },
  {
   "cell_type": "code",
   "execution_count": 3,
   "id": "62eadf22",
   "metadata": {},
   "outputs": [
    {
     "data": {
      "text/plain": [
       "PIL.Image.Image"
      ]
     },
     "execution_count": 3,
     "metadata": {},
     "output_type": "execute_result"
    }
   ],
   "source": [
    "type(img)"
   ]
  },
  {
   "cell_type": "code",
   "execution_count": 4,
   "id": "77487238",
   "metadata": {},
   "outputs": [
    {
     "data": {
      "image/png": "[encoded data removed]",
      "text/plain": [
       "<Figure size 200x200 with 1 Axes>"
      ]
     },
     "metadata": {},
     "output_type": "display_data"
    }
   ],
   "source": [
    "import matplotlib.pyplot as plt\n",
    "\n",
    "plt.figure(figsize=(2, 2))\n",
    "plt.imshow(img, cmap='gray')\n",
    "plt.axis('off')\n",
    "plt.show()"
   ]
  },
  {
   "cell_type": "markdown",
   "id": "32b1b7d8",
   "metadata": {},
   "source": [
    "# Conert to Tensor"
   ]
  },
  {
   "cell_type": "code",
   "execution_count": 5,
   "id": "e162ce9d",
   "metadata": {},
   "outputs": [
    {
     "name": "stdout",
     "output_type": "stream",
     "text": [
      "<class 'torch.Tensor'> 9\n",
      "tensor([[[0.0000, 0.0000, 0.0000, 0.0000, 0.0000, 0.0000, 0.0000, 0.0000,\n",
      "          0.0000, 0.0000, 0.0000, 0.0000, 0.0000, 0.0000, 0.0000, 0.0000,\n",
      "          0.0000, 0.0000, 0.0000, 0.0000, 0.0000, 0.0000, 0.0000, 0.0000,\n",
      "          0.0000, 0.0000, 0.0000, 0.0000],\n",
      "         [0.0000, 0.0000, 0.0000, 0.0000, 0.0000, 0.0000, 0.0000, 0.0000,\n",
      "          0.0000, 0.0000, 0.0000, 0.0000, 0.0000, 0.0000, 0.0000, 0.0000,\n",
      "          0.0000, 0.0000, 0.0000, 0.0000, 0.0000, 0.0000, 0.0000, 0.0000,\n",
      "          0.0000, 0.0000, 0.0000, 0.0000],\n",
      "         [0.0000, 0.0000, 0.0000, 0.0000, 0.0000, 0.0000, 0.0000, 0.0000,\n",
      "          0.0000, 0.0000, 0.0000, 0.0000, 0.0000, 0.0000, 0.0000, 0.0000,\n",
      "          0.0000, 0.0000, 0.0000, 0.0000, 0.0000, 0.0000, 0.0000, 0.0000,\n",
      "          0.0000, 0.0000, 0.0000, 0.0000],\n",
      "         [0.0000, 0.0000, 0.0000, 0.0000, 0.0000, 0.0000, 0.0000, 0.0000,\n",
      "          0.0000, 0.0000, 0.0000, 0.0000, 0.0039, 0.0000, 0.0000, 0.0510,\n",
      "          0.2863, 0.0000, 0.0000, 0.0039, 0.0157, 0.0000, 0.0000, 0.0000,\n",
      "          0.0000, 0.0039, 0.0039, 0.0000],\n",
      "         [0.0000, 0.0000, 0.0000, 0.0000, 0.0000, 0.0000, 0.0000, 0.0000,\n",
      "          0.0000, 0.0000, 0.0000, 0.0000, 0.0118, 0.0000, 0.1412, 0.5333,\n",
      "          0.4980, 0.2431, 0.2118, 0.0000, 0.0000, 0.0000, 0.0039, 0.0118,\n",
      "          0.0157, 0.0000, 0.0000, 0.0118],\n",
      "         [0.0000, 0.0000, 0.0000, 0.0000, 0.0000, 0.0000, 0.0000, 0.0000,\n",
      "          0.0000, 0.0000, 0.0000, 0.0000, 0.0235, 0.0000, 0.4000, 0.8000,\n",
      "          0.6902, 0.5255, 0.5647, 0.4824, 0.0902, 0.0000, 0.0000, 0.0000,\n",
      "          0.0000, 0.0471, 0.0392, 0.0000],\n",
      "         [0.0000, 0.0000, 0.0000, 0.0000, 0.0000, 0.0000, 0.0000, 0.0000,\n",
      "          0.0000, 0.0000, 0.0000, 0.0000, 0.0000, 0.0000, 0.6078, 0.9255,\n",
      "          0.8118, 0.6980, 0.4196, 0.6118, 0.6314, 0.4275, 0.2510, 0.0902,\n",
      "          0.3020, 0.5098, 0.2824, 0.0588],\n",
      "         [0.0000, 0.0000, 0.0000, 0.0000, 0.0000, 0.0000, 0.0000, 0.0000,\n",
      "          0.0000, 0.0000, 0.0000, 0.0039, 0.0000, 0.2706, 0.8118, 0.8745,\n",
      "          0.8549, 0.8471, 0.8471, 0.6392, 0.4980, 0.4745, 0.4784, 0.5725,\n",
      "          0.5529, 0.3451, 0.6745, 0.2588],\n",
      "         [0.0000, 0.0000, 0.0000, 0.0000, 0.0000, 0.0000, 0.0000, 0.0000,\n",
      "          0.0000, 0.0039, 0.0039, 0.0039, 0.0000, 0.7843, 0.9098, 0.9098,\n",
      "          0.9137, 0.8980, 0.8745, 0.8745, 0.8431, 0.8353, 0.6431, 0.4980,\n",
      "          0.4824, 0.7686, 0.8980, 0.0000],\n",
      "         [0.0000, 0.0000, 0.0000, 0.0000, 0.0000, 0.0000, 0.0000, 0.0000,\n",
      "          0.0000, 0.0000, 0.0000, 0.0000, 0.0000, 0.7176, 0.8824, 0.8471,\n",
      "          0.8745, 0.8941, 0.9216, 0.8902, 0.8784, 0.8706, 0.8784, 0.8667,\n",
      "          0.8745, 0.9608, 0.6784, 0.0000],\n",
      "         [0.0000, 0.0000, 0.0000, 0.0000, 0.0000, 0.0000, 0.0000, 0.0000,\n",
      "          0.0000, 0.0000, 0.0000, 0.0000, 0.0000, 0.7569, 0.8941, 0.8549,\n",
      "          0.8353, 0.7765, 0.7059, 0.8314, 0.8235, 0.8275, 0.8353, 0.8745,\n",
      "          0.8627, 0.9529, 0.7922, 0.0000],\n",
      "         [0.0000, 0.0000, 0.0000, 0.0000, 0.0000, 0.0000, 0.0000, 0.0000,\n",
      "          0.0000, 0.0039, 0.0118, 0.0000, 0.0471, 0.8588, 0.8627, 0.8314,\n",
      "          0.8549, 0.7529, 0.6627, 0.8902, 0.8157, 0.8549, 0.8784, 0.8314,\n",
      "          0.8863, 0.7725, 0.8196, 0.2039],\n",
      "         [0.0000, 0.0000, 0.0000, 0.0000, 0.0000, 0.0000, 0.0000, 0.0000,\n",
      "          0.0000, 0.0000, 0.0235, 0.0000, 0.3882, 0.9569, 0.8706, 0.8627,\n",
      "          0.8549, 0.7961, 0.7765, 0.8667, 0.8431, 0.8353, 0.8706, 0.8627,\n",
      "          0.9608, 0.4667, 0.6549, 0.2196],\n",
      "         [0.0000, 0.0000, 0.0000, 0.0000, 0.0000, 0.0000, 0.0000, 0.0000,\n",
      "          0.0000, 0.0157, 0.0000, 0.0000, 0.2157, 0.9255, 0.8941, 0.9020,\n",
      "          0.8941, 0.9412, 0.9098, 0.8353, 0.8549, 0.8745, 0.9176, 0.8510,\n",
      "          0.8510, 0.8196, 0.3608, 0.0000],\n",
      "         [0.0000, 0.0000, 0.0039, 0.0157, 0.0235, 0.0275, 0.0078, 0.0000,\n",
      "          0.0000, 0.0000, 0.0000, 0.0000, 0.9294, 0.8863, 0.8510, 0.8745,\n",
      "          0.8706, 0.8588, 0.8706, 0.8667, 0.8471, 0.8745, 0.8980, 0.8431,\n",
      "          0.8549, 1.0000, 0.3020, 0.0000],\n",
      "         [0.0000, 0.0118, 0.0000, 0.0000, 0.0000, 0.0000, 0.0000, 0.0000,\n",
      "          0.0000, 0.2431, 0.5686, 0.8000, 0.8941, 0.8118, 0.8353, 0.8667,\n",
      "          0.8549, 0.8157, 0.8275, 0.8549, 0.8784, 0.8745, 0.8588, 0.8431,\n",
      "          0.8784, 0.9569, 0.6235, 0.0000],\n",
      "         [0.0000, 0.0000, 0.0000, 0.0000, 0.0706, 0.1725, 0.3216, 0.4196,\n",
      "          0.7412, 0.8941, 0.8627, 0.8706, 0.8510, 0.8863, 0.7843, 0.8039,\n",
      "          0.8275, 0.9020, 0.8784, 0.9176, 0.6902, 0.7373, 0.9804, 0.9725,\n",
      "          0.9137, 0.9333, 0.8431, 0.0000],\n",
      "         [0.0000, 0.2235, 0.7333, 0.8157, 0.8784, 0.8667, 0.8784, 0.8157,\n",
      "          0.8000, 0.8392, 0.8157, 0.8196, 0.7843, 0.6235, 0.9608, 0.7569,\n",
      "          0.8078, 0.8745, 1.0000, 1.0000, 0.8667, 0.9176, 0.8667, 0.8275,\n",
      "          0.8627, 0.9098, 0.9647, 0.0000],\n",
      "         [0.0118, 0.7922, 0.8941, 0.8784, 0.8667, 0.8275, 0.8275, 0.8392,\n",
      "          0.8039, 0.8039, 0.8039, 0.8627, 0.9412, 0.3137, 0.5882, 1.0000,\n",
      "          0.8980, 0.8667, 0.7373, 0.6039, 0.7490, 0.8235, 0.8000, 0.8196,\n",
      "          0.8706, 0.8941, 0.8824, 0.0000],\n",
      "         [0.3843, 0.9137, 0.7765, 0.8235, 0.8706, 0.8980, 0.8980, 0.9176,\n",
      "          0.9765, 0.8627, 0.7608, 0.8431, 0.8510, 0.9451, 0.2549, 0.2863,\n",
      "          0.4157, 0.4588, 0.6588, 0.8588, 0.8667, 0.8431, 0.8510, 0.8745,\n",
      "          0.8745, 0.8784, 0.8980, 0.1137],\n",
      "         [0.2941, 0.8000, 0.8314, 0.8000, 0.7569, 0.8039, 0.8275, 0.8824,\n",
      "          0.8471, 0.7255, 0.7725, 0.8078, 0.7765, 0.8353, 0.9412, 0.7647,\n",
      "          0.8902, 0.9608, 0.9373, 0.8745, 0.8549, 0.8314, 0.8196, 0.8706,\n",
      "          0.8627, 0.8667, 0.9020, 0.2627],\n",
      "         [0.1882, 0.7961, 0.7176, 0.7608, 0.8353, 0.7725, 0.7255, 0.7451,\n",
      "          0.7608, 0.7529, 0.7922, 0.8392, 0.8588, 0.8667, 0.8627, 0.9255,\n",
      "          0.8824, 0.8471, 0.7804, 0.8078, 0.7294, 0.7098, 0.6941, 0.6745,\n",
      "          0.7098, 0.8039, 0.8078, 0.4510],\n",
      "         [0.0000, 0.4784, 0.8588, 0.7569, 0.7020, 0.6706, 0.7176, 0.7686,\n",
      "          0.8000, 0.8235, 0.8353, 0.8118, 0.8275, 0.8235, 0.7843, 0.7686,\n",
      "          0.7608, 0.7490, 0.7647, 0.7490, 0.7765, 0.7529, 0.6902, 0.6118,\n",
      "          0.6549, 0.6941, 0.8235, 0.3608],\n",
      "         [0.0000, 0.0000, 0.2902, 0.7412, 0.8314, 0.7490, 0.6863, 0.6745,\n",
      "          0.6863, 0.7098, 0.7255, 0.7373, 0.7412, 0.7373, 0.7569, 0.7765,\n",
      "          0.8000, 0.8196, 0.8235, 0.8235, 0.8275, 0.7373, 0.7373, 0.7608,\n",
      "          0.7529, 0.8471, 0.6667, 0.0000],\n",
      "         [0.0078, 0.0000, 0.0000, 0.0000, 0.2588, 0.7843, 0.8706, 0.9294,\n",
      "          0.9373, 0.9490, 0.9647, 0.9529, 0.9569, 0.8667, 0.8627, 0.7569,\n",
      "          0.7490, 0.7020, 0.7137, 0.7137, 0.7098, 0.6902, 0.6510, 0.6588,\n",
      "          0.3882, 0.2275, 0.0000, 0.0000],\n",
      "         [0.0000, 0.0000, 0.0000, 0.0000, 0.0000, 0.0000, 0.0000, 0.1569,\n",
      "          0.2392, 0.1725, 0.2824, 0.1608, 0.1373, 0.0000, 0.0000, 0.0000,\n",
      "          0.0000, 0.0000, 0.0000, 0.0000, 0.0000, 0.0000, 0.0000, 0.0000,\n",
      "          0.0000, 0.0000, 0.0000, 0.0000],\n",
      "         [0.0000, 0.0000, 0.0000, 0.0000, 0.0000, 0.0000, 0.0000, 0.0000,\n",
      "          0.0000, 0.0000, 0.0000, 0.0000, 0.0000, 0.0000, 0.0000, 0.0000,\n",
      "          0.0000, 0.0000, 0.0000, 0.0000, 0.0000, 0.0000, 0.0000, 0.0000,\n",
      "          0.0000, 0.0000, 0.0000, 0.0000],\n",
      "         [0.0000, 0.0000, 0.0000, 0.0000, 0.0000, 0.0000, 0.0000, 0.0000,\n",
      "          0.0000, 0.0000, 0.0000, 0.0000, 0.0000, 0.0000, 0.0000, 0.0000,\n",
      "          0.0000, 0.0000, 0.0000, 0.0000, 0.0000, 0.0000, 0.0000, 0.0000,\n",
      "          0.0000, 0.0000, 0.0000, 0.0000]]])\n"
     ]
    }
   ],
   "source": [
    "from torchvision.datasets import FashionMNIST\n",
    "from torch.utils.data import DataLoader\n",
    "from torchvision import transforms\n",
    "\n",
    "transform = transforms.Compose([transforms.ToTensor()])\n",
    "trainset = FashionMNIST(root='Data',\n",
    "                        train=True,\n",
    "                        download=True,\n",
    "                        transform= transform)\n",
    "\n",
    "img, label = trainset[0]\n",
    "print(type(img), label)\n",
    "print(img)"
   ]
  },
  {
   "cell_type": "code",
   "execution_count": 6,
   "id": "98984cfa",
   "metadata": {},
   "outputs": [
    {
     "data": {
      "image/png": "[encoded data removed]",
      "text/plain": [
       "<Figure size 200x200 with 1 Axes>"
      ]
     },
     "metadata": {},
     "output_type": "display_data"
    }
   ],
   "source": [
    "import matplotlib.pyplot as plt\n",
    "import numpy as np\n",
    "\n",
    "img, _ =trainset[0]\n",
    "np_img = img.numpy()\n",
    "np_img = np.transpose(np_img, (1, 2, 0))\n",
    "\n",
    "plt.figure(figsize=(2, 2))\n",
    "plt.imshow(np_img, cmap='gray')\n",
    "plt.axis('off')\n",
    "plt.show()"
   ]
  },
  {
   "cell_type": "code",
   "execution_count": 7,
   "id": "b4608ff2",
   "metadata": {},
   "outputs": [
    {
     "name": "stdout",
     "output_type": "stream",
     "text": [
      "59\n",
      "<class 'torch.utils.data.dataloader.DataLoader'>\n"
     ]
    }
   ],
   "source": [
    "from torchvision.datasets import FashionMNIST\n",
    "from torch.utils.data import DataLoader\n",
    "from torchvision import transforms\n",
    "\n",
    "transform = transforms.Compose([transforms.ToTensor()])\n",
    "trainset = FashionMNIST(root='Data',\n",
    "                        train=True,\n",
    "                        download=True,\n",
    "                        transform= transform)\n",
    "\n",
    "trainloader = DataLoader(trainset,\n",
    "                         batch_size=1024,\n",
    "                         num_workers=6,\n",
    "                         shuffle=True)\n",
    "\n",
    "print(len(trainloader))\n",
    "print(type(trainloader))"
   ]
  },
  {
   "cell_type": "code",
   "execution_count": 8,
   "id": "4f723e5b",
   "metadata": {},
   "outputs": [
    {
     "name": "stdout",
     "output_type": "stream",
     "text": [
      "torch.Size([1024, 1, 28, 28])\n",
      "torch.Size([1024])\n"
     ]
    }
   ],
   "source": [
    "for d in trainloader:\n",
    "    images, labels = d\n",
    "    print(images.shape)\n",
    "    print(labels.shape)\n",
    "    break"
   ]
  },
  {
   "cell_type": "code",
   "execution_count": 9,
   "id": "1a1a0d97",
   "metadata": {},
   "outputs": [
    {
     "name": "stdout",
     "output_type": "stream",
     "text": [
      "Batch index 0 -- torch.Size([1024, 1, 28, 28]) -- torch.Size([1024])\n",
      "Batch index 1 -- torch.Size([1024, 1, 28, 28]) -- torch.Size([1024])\n",
      "Batch index 2 -- torch.Size([1024, 1, 28, 28]) -- torch.Size([1024])\n",
      "Batch index 3 -- torch.Size([1024, 1, 28, 28]) -- torch.Size([1024])\n",
      "Batch index 4 -- torch.Size([1024, 1, 28, 28]) -- torch.Size([1024])\n",
      "Batch index 5 -- torch.Size([1024, 1, 28, 28]) -- torch.Size([1024])\n",
      "Batch index 6 -- torch.Size([1024, 1, 28, 28]) -- torch.Size([1024])\n",
      "Batch index 7 -- torch.Size([1024, 1, 28, 28]) -- torch.Size([1024])\n",
      "Batch index 8 -- torch.Size([1024, 1, 28, 28]) -- torch.Size([1024])\n",
      "Batch index 9 -- torch.Size([1024, 1, 28, 28]) -- torch.Size([1024])\n",
      "Batch index 10 -- torch.Size([1024, 1, 28, 28]) -- torch.Size([1024])\n",
      "Batch index 11 -- torch.Size([1024, 1, 28, 28]) -- torch.Size([1024])\n",
      "Batch index 12 -- torch.Size([1024, 1, 28, 28]) -- torch.Size([1024])\n",
      "Batch index 13 -- torch.Size([1024, 1, 28, 28]) -- torch.Size([1024])\n",
      "Batch index 14 -- torch.Size([1024, 1, 28, 28]) -- torch.Size([1024])\n",
      "Batch index 15 -- torch.Size([1024, 1, 28, 28]) -- torch.Size([1024])\n",
      "Batch index 16 -- torch.Size([1024, 1, 28, 28]) -- torch.Size([1024])\n",
      "Batch index 17 -- torch.Size([1024, 1, 28, 28]) -- torch.Size([1024])\n",
      "Batch index 18 -- torch.Size([1024, 1, 28, 28]) -- torch.Size([1024])\n",
      "Batch index 19 -- torch.Size([1024, 1, 28, 28]) -- torch.Size([1024])\n",
      "Batch index 20 -- torch.Size([1024, 1, 28, 28]) -- torch.Size([1024])\n",
      "Batch index 21 -- torch.Size([1024, 1, 28, 28]) -- torch.Size([1024])\n",
      "Batch index 22 -- torch.Size([1024, 1, 28, 28]) -- torch.Size([1024])\n",
      "Batch index 23 -- torch.Size([1024, 1, 28, 28]) -- torch.Size([1024])\n",
      "Batch index 24 -- torch.Size([1024, 1, 28, 28]) -- torch.Size([1024])\n",
      "Batch index 25 -- torch.Size([1024, 1, 28, 28]) -- torch.Size([1024])\n",
      "Batch index 26 -- torch.Size([1024, 1, 28, 28]) -- torch.Size([1024])\n",
      "Batch index 27 -- torch.Size([1024, 1, 28, 28]) -- torch.Size([1024])\n",
      "Batch index 28 -- torch.Size([1024, 1, 28, 28]) -- torch.Size([1024])\n",
      "Batch index 29 -- torch.Size([1024, 1, 28, 28]) -- torch.Size([1024])\n",
      "Batch index 30 -- torch.Size([1024, 1, 28, 28]) -- torch.Size([1024])\n",
      "Batch index 31 -- torch.Size([1024, 1, 28, 28]) -- torch.Size([1024])\n",
      "Batch index 32 -- torch.Size([1024, 1, 28, 28]) -- torch.Size([1024])\n",
      "Batch index 33 -- torch.Size([1024, 1, 28, 28]) -- torch.Size([1024])\n",
      "Batch index 34 -- torch.Size([1024, 1, 28, 28]) -- torch.Size([1024])\n",
      "Batch index 35 -- torch.Size([1024, 1, 28, 28]) -- torch.Size([1024])\n",
      "Batch index 36 -- torch.Size([1024, 1, 28, 28]) -- torch.Size([1024])\n",
      "Batch index 37 -- torch.Size([1024, 1, 28, 28]) -- torch.Size([1024])\n",
      "Batch index 38 -- torch.Size([1024, 1, 28, 28]) -- torch.Size([1024])\n",
      "Batch index 39 -- torch.Size([1024, 1, 28, 28]) -- torch.Size([1024])\n",
      "Batch index 40 -- torch.Size([1024, 1, 28, 28]) -- torch.Size([1024])\n",
      "Batch index 41 -- torch.Size([1024, 1, 28, 28]) -- torch.Size([1024])\n",
      "Batch index 42 -- torch.Size([1024, 1, 28, 28]) -- torch.Size([1024])\n",
      "Batch index 43 -- torch.Size([1024, 1, 28, 28]) -- torch.Size([1024])\n",
      "Batch index 44 -- torch.Size([1024, 1, 28, 28]) -- torch.Size([1024])\n",
      "Batch index 45 -- torch.Size([1024, 1, 28, 28]) -- torch.Size([1024])\n",
      "Batch index 46 -- torch.Size([1024, 1, 28, 28]) -- torch.Size([1024])\n",
      "Batch index 47 -- torch.Size([1024, 1, 28, 28]) -- torch.Size([1024])\n",
      "Batch index 48 -- torch.Size([1024, 1, 28, 28]) -- torch.Size([1024])\n",
      "Batch index 49 -- torch.Size([1024, 1, 28, 28]) -- torch.Size([1024])\n",
      "Batch index 50 -- torch.Size([1024, 1, 28, 28]) -- torch.Size([1024])\n",
      "Batch index 51 -- torch.Size([1024, 1, 28, 28]) -- torch.Size([1024])\n",
      "Batch index 52 -- torch.Size([1024, 1, 28, 28]) -- torch.Size([1024])\n",
      "Batch index 53 -- torch.Size([1024, 1, 28, 28]) -- torch.Size([1024])\n",
      "Batch index 54 -- torch.Size([1024, 1, 28, 28]) -- torch.Size([1024])\n",
      "Batch index 55 -- torch.Size([1024, 1, 28, 28]) -- torch.Size([1024])\n",
      "Batch index 56 -- torch.Size([1024, 1, 28, 28]) -- torch.Size([1024])\n",
      "Batch index 57 -- torch.Size([1024, 1, 28, 28]) -- torch.Size([1024])\n",
      "Batch index 58 -- torch.Size([608, 1, 28, 28]) -- torch.Size([608])\n"
     ]
    }
   ],
   "source": [
    "#batch_size=1024\n",
    "for i, (inputs, labels) in enumerate(trainloader, 0):\n",
    "    print(f'Batch index {i} -- {inputs.shape} -- {labels.shape}')"
   ]
  },
  {
   "cell_type": "code",
   "execution_count": 10,
   "id": "94fa8077",
   "metadata": {},
   "outputs": [
    {
     "name": "stdout",
     "output_type": "stream",
     "text": [
      "torch.Size([608, 1, 28, 28])\n"
     ]
    }
   ],
   "source": [
    "X = inputs\n",
    "print(X.shape)"
   ]
  },
  {
   "cell_type": "code",
   "execution_count": 11,
   "id": "31ae6e5d",
   "metadata": {},
   "outputs": [
    {
     "name": "stdout",
     "output_type": "stream",
     "text": [
      "torch.Size([608, 784])\n"
     ]
    }
   ],
   "source": [
    "import torch\n",
    "\n",
    "flatten_layer = torch.nn.Flatten()\n",
    "X_flatten = flatten_layer(X)\n",
    "print(X_flatten.shape)"
   ]
  },
  {
   "cell_type": "code",
   "execution_count": 12,
   "id": "1708594f",
   "metadata": {},
   "outputs": [
    {
     "name": "stdout",
     "output_type": "stream",
     "text": [
      "torch.Size([608, 20])\n"
     ]
    }
   ],
   "source": [
    "linear_layer = torch.nn.Linear(784, 20)\n",
    "\n",
    "logits = linear_layer(X_flatten)\n",
    "print(logits.shape)"
   ]
  }
 ],
 "metadata": {
  "kernelspec": {
   "display_name": "Python 3",
   "language": "python",
   "name": "python3"
  },
  "language_info": {
   "codemirror_mode": {
    "name": "ipython",
    "version": 3
   },
   "file_extension": ".py",
   "mimetype": "text/x-python",
   "name": "python",
   "nbconvert_exporter": "python",
   "pygments_lexer": "ipython3",
   "version": "3.11.8"
  }
 },
 "nbformat": 4,
 "nbformat_minor": 5
}
