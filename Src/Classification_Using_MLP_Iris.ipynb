{
 "cells": [
  {
   "cell_type": "code",
   "execution_count": 1090,
   "id": "8ecb6ea1",
   "metadata": {},
   "outputs": [],
   "source": [
    "import torch\n",
    "import torch.nn as nn\n",
    "import torch.optim as optim\n",
    "import torchvision\n",
    "import torchvision.transforms as transforms\n",
    "from torchsummary import summary"
   ]
  },
  {
   "cell_type": "code",
   "execution_count": 1091,
   "id": "1931d24f",
   "metadata": {},
   "outputs": [],
   "source": [
    "from sklearn.datasets import load_iris\n",
    "from sklearn.model_selection import train_test_split"
   ]
  },
  {
   "cell_type": "code",
   "execution_count": 1092,
   "id": "8c792771",
   "metadata": {},
   "outputs": [],
   "source": [
    "data = load_iris()"
   ]
  },
  {
   "cell_type": "code",
   "execution_count": 1093,
   "id": "1d2e4513",
   "metadata": {},
   "outputs": [
    {
     "data": {
      "text/plain": [
       "array([[5.1, 3.5, 1.4, 0.2],\n",
       "       [4.9, 3. , 1.4, 0.2],\n",
       "       [4.7, 3.2, 1.3, 0.2],\n",
       "       [4.6, 3.1, 1.5, 0.2],\n",
       "       [5. , 3.6, 1.4, 0.2],\n",
       "       [5.4, 3.9, 1.7, 0.4],\n",
       "       [4.6, 3.4, 1.4, 0.3],\n",
       "       [5. , 3.4, 1.5, 0.2],\n",
       "       [4.4, 2.9, 1.4, 0.2],\n",
       "       [4.9, 3.1, 1.5, 0.1],\n",
       "       [5.4, 3.7, 1.5, 0.2],\n",
       "       [4.8, 3.4, 1.6, 0.2],\n",
       "       [4.8, 3. , 1.4, 0.1],\n",
       "       [4.3, 3. , 1.1, 0.1],\n",
       "       [5.8, 4. , 1.2, 0.2],\n",
       "       [5.7, 4.4, 1.5, 0.4],\n",
       "       [5.4, 3.9, 1.3, 0.4],\n",
       "       [5.1, 3.5, 1.4, 0.3],\n",
       "       [5.7, 3.8, 1.7, 0.3],\n",
       "       [5.1, 3.8, 1.5, 0.3],\n",
       "       [5.4, 3.4, 1.7, 0.2],\n",
       "       [5.1, 3.7, 1.5, 0.4],\n",
       "       [4.6, 3.6, 1. , 0.2],\n",
       "       [5.1, 3.3, 1.7, 0.5],\n",
       "       [4.8, 3.4, 1.9, 0.2],\n",
       "       [5. , 3. , 1.6, 0.2],\n",
       "       [5. , 3.4, 1.6, 0.4],\n",
       "       [5.2, 3.5, 1.5, 0.2],\n",
       "       [5.2, 3.4, 1.4, 0.2],\n",
       "       [4.7, 3.2, 1.6, 0.2],\n",
       "       [4.8, 3.1, 1.6, 0.2],\n",
       "       [5.4, 3.4, 1.5, 0.4],\n",
       "       [5.2, 4.1, 1.5, 0.1],\n",
       "       [5.5, 4.2, 1.4, 0.2],\n",
       "       [4.9, 3.1, 1.5, 0.2],\n",
       "       [5. , 3.2, 1.2, 0.2],\n",
       "       [5.5, 3.5, 1.3, 0.2],\n",
       "       [4.9, 3.6, 1.4, 0.1],\n",
       "       [4.4, 3. , 1.3, 0.2],\n",
       "       [5.1, 3.4, 1.5, 0.2],\n",
       "       [5. , 3.5, 1.3, 0.3],\n",
       "       [4.5, 2.3, 1.3, 0.3],\n",
       "       [4.4, 3.2, 1.3, 0.2],\n",
       "       [5. , 3.5, 1.6, 0.6],\n",
       "       [5.1, 3.8, 1.9, 0.4],\n",
       "       [4.8, 3. , 1.4, 0.3],\n",
       "       [5.1, 3.8, 1.6, 0.2],\n",
       "       [4.6, 3.2, 1.4, 0.2],\n",
       "       [5.3, 3.7, 1.5, 0.2],\n",
       "       [5. , 3.3, 1.4, 0.2],\n",
       "       [7. , 3.2, 4.7, 1.4],\n",
       "       [6.4, 3.2, 4.5, 1.5],\n",
       "       [6.9, 3.1, 4.9, 1.5],\n",
       "       [5.5, 2.3, 4. , 1.3],\n",
       "       [6.5, 2.8, 4.6, 1.5],\n",
       "       [5.7, 2.8, 4.5, 1.3],\n",
       "       [6.3, 3.3, 4.7, 1.6],\n",
       "       [4.9, 2.4, 3.3, 1. ],\n",
       "       [6.6, 2.9, 4.6, 1.3],\n",
       "       [5.2, 2.7, 3.9, 1.4],\n",
       "       [5. , 2. , 3.5, 1. ],\n",
       "       [5.9, 3. , 4.2, 1.5],\n",
       "       [6. , 2.2, 4. , 1. ],\n",
       "       [6.1, 2.9, 4.7, 1.4],\n",
       "       [5.6, 2.9, 3.6, 1.3],\n",
       "       [6.7, 3.1, 4.4, 1.4],\n",
       "       [5.6, 3. , 4.5, 1.5],\n",
       "       [5.8, 2.7, 4.1, 1. ],\n",
       "       [6.2, 2.2, 4.5, 1.5],\n",
       "       [5.6, 2.5, 3.9, 1.1],\n",
       "       [5.9, 3.2, 4.8, 1.8],\n",
       "       [6.1, 2.8, 4. , 1.3],\n",
       "       [6.3, 2.5, 4.9, 1.5],\n",
       "       [6.1, 2.8, 4.7, 1.2],\n",
       "       [6.4, 2.9, 4.3, 1.3],\n",
       "       [6.6, 3. , 4.4, 1.4],\n",
       "       [6.8, 2.8, 4.8, 1.4],\n",
       "       [6.7, 3. , 5. , 1.7],\n",
       "       [6. , 2.9, 4.5, 1.5],\n",
       "       [5.7, 2.6, 3.5, 1. ],\n",
       "       [5.5, 2.4, 3.8, 1.1],\n",
       "       [5.5, 2.4, 3.7, 1. ],\n",
       "       [5.8, 2.7, 3.9, 1.2],\n",
       "       [6. , 2.7, 5.1, 1.6],\n",
       "       [5.4, 3. , 4.5, 1.5],\n",
       "       [6. , 3.4, 4.5, 1.6],\n",
       "       [6.7, 3.1, 4.7, 1.5],\n",
       "       [6.3, 2.3, 4.4, 1.3],\n",
       "       [5.6, 3. , 4.1, 1.3],\n",
       "       [5.5, 2.5, 4. , 1.3],\n",
       "       [5.5, 2.6, 4.4, 1.2],\n",
       "       [6.1, 3. , 4.6, 1.4],\n",
       "       [5.8, 2.6, 4. , 1.2],\n",
       "       [5. , 2.3, 3.3, 1. ],\n",
       "       [5.6, 2.7, 4.2, 1.3],\n",
       "       [5.7, 3. , 4.2, 1.2],\n",
       "       [5.7, 2.9, 4.2, 1.3],\n",
       "       [6.2, 2.9, 4.3, 1.3],\n",
       "       [5.1, 2.5, 3. , 1.1],\n",
       "       [5.7, 2.8, 4.1, 1.3],\n",
       "       [6.3, 3.3, 6. , 2.5],\n",
       "       [5.8, 2.7, 5.1, 1.9],\n",
       "       [7.1, 3. , 5.9, 2.1],\n",
       "       [6.3, 2.9, 5.6, 1.8],\n",
       "       [6.5, 3. , 5.8, 2.2],\n",
       "       [7.6, 3. , 6.6, 2.1],\n",
       "       [4.9, 2.5, 4.5, 1.7],\n",
       "       [7.3, 2.9, 6.3, 1.8],\n",
       "       [6.7, 2.5, 5.8, 1.8],\n",
       "       [7.2, 3.6, 6.1, 2.5],\n",
       "       [6.5, 3.2, 5.1, 2. ],\n",
       "       [6.4, 2.7, 5.3, 1.9],\n",
       "       [6.8, 3. , 5.5, 2.1],\n",
       "       [5.7, 2.5, 5. , 2. ],\n",
       "       [5.8, 2.8, 5.1, 2.4],\n",
       "       [6.4, 3.2, 5.3, 2.3],\n",
       "       [6.5, 3. , 5.5, 1.8],\n",
       "       [7.7, 3.8, 6.7, 2.2],\n",
       "       [7.7, 2.6, 6.9, 2.3],\n",
       "       [6. , 2.2, 5. , 1.5],\n",
       "       [6.9, 3.2, 5.7, 2.3],\n",
       "       [5.6, 2.8, 4.9, 2. ],\n",
       "       [7.7, 2.8, 6.7, 2. ],\n",
       "       [6.3, 2.7, 4.9, 1.8],\n",
       "       [6.7, 3.3, 5.7, 2.1],\n",
       "       [7.2, 3.2, 6. , 1.8],\n",
       "       [6.2, 2.8, 4.8, 1.8],\n",
       "       [6.1, 3. , 4.9, 1.8],\n",
       "       [6.4, 2.8, 5.6, 2.1],\n",
       "       [7.2, 3. , 5.8, 1.6],\n",
       "       [7.4, 2.8, 6.1, 1.9],\n",
       "       [7.9, 3.8, 6.4, 2. ],\n",
       "       [6.4, 2.8, 5.6, 2.2],\n",
       "       [6.3, 2.8, 5.1, 1.5],\n",
       "       [6.1, 2.6, 5.6, 1.4],\n",
       "       [7.7, 3. , 6.1, 2.3],\n",
       "       [6.3, 3.4, 5.6, 2.4],\n",
       "       [6.4, 3.1, 5.5, 1.8],\n",
       "       [6. , 3. , 4.8, 1.8],\n",
       "       [6.9, 3.1, 5.4, 2.1],\n",
       "       [6.7, 3.1, 5.6, 2.4],\n",
       "       [6.9, 3.1, 5.1, 2.3],\n",
       "       [5.8, 2.7, 5.1, 1.9],\n",
       "       [6.8, 3.2, 5.9, 2.3],\n",
       "       [6.7, 3.3, 5.7, 2.5],\n",
       "       [6.7, 3. , 5.2, 2.3],\n",
       "       [6.3, 2.5, 5. , 1.9],\n",
       "       [6.5, 3. , 5.2, 2. ],\n",
       "       [6.2, 3.4, 5.4, 2.3],\n",
       "       [5.9, 3. , 5.1, 1.8]])"
      ]
     },
     "execution_count": 1093,
     "metadata": {},
     "output_type": "execute_result"
    }
   ],
   "source": [
    "data.data"
   ]
  },
  {
   "cell_type": "code",
   "execution_count": 1094,
   "id": "01e6b2d1",
   "metadata": {},
   "outputs": [
    {
     "data": {
      "text/plain": [
       "array([0, 0, 0, 0, 0, 0, 0, 0, 0, 0, 0, 0, 0, 0, 0, 0, 0, 0, 0, 0, 0, 0,\n",
       "       0, 0, 0, 0, 0, 0, 0, 0, 0, 0, 0, 0, 0, 0, 0, 0, 0, 0, 0, 0, 0, 0,\n",
       "       0, 0, 0, 0, 0, 0, 1, 1, 1, 1, 1, 1, 1, 1, 1, 1, 1, 1, 1, 1, 1, 1,\n",
       "       1, 1, 1, 1, 1, 1, 1, 1, 1, 1, 1, 1, 1, 1, 1, 1, 1, 1, 1, 1, 1, 1,\n",
       "       1, 1, 1, 1, 1, 1, 1, 1, 1, 1, 1, 1, 2, 2, 2, 2, 2, 2, 2, 2, 2, 2,\n",
       "       2, 2, 2, 2, 2, 2, 2, 2, 2, 2, 2, 2, 2, 2, 2, 2, 2, 2, 2, 2, 2, 2,\n",
       "       2, 2, 2, 2, 2, 2, 2, 2, 2, 2, 2, 2, 2, 2, 2, 2, 2, 2])"
      ]
     },
     "execution_count": 1094,
     "metadata": {},
     "output_type": "execute_result"
    }
   ],
   "source": [
    "data.target"
   ]
  },
  {
   "cell_type": "code",
   "execution_count": 1095,
   "id": "f10ca713",
   "metadata": {},
   "outputs": [
    {
     "data": {
      "text/plain": [
       "(150, 4)"
      ]
     },
     "execution_count": 1095,
     "metadata": {},
     "output_type": "execute_result"
    }
   ],
   "source": [
    "data.data.shape"
   ]
  },
  {
   "cell_type": "code",
   "execution_count": 1096,
   "id": "d599d93c",
   "metadata": {},
   "outputs": [
    {
     "data": {
      "text/plain": [
       "(150,)"
      ]
     },
     "execution_count": 1096,
     "metadata": {},
     "output_type": "execute_result"
    }
   ],
   "source": [
    "data.target.shape"
   ]
  },
  {
   "cell_type": "code",
   "execution_count": 1097,
   "id": "2180a482",
   "metadata": {},
   "outputs": [],
   "source": [
    "X_train, X_test, Y_train, Y_test = train_test_split(data.data,\n",
    "                                                    data.target,\n",
    "                                                    test_size=0.4,\n",
    "                                                    random_state=7)"
   ]
  },
  {
   "cell_type": "code",
   "execution_count": 1098,
   "id": "0447063d",
   "metadata": {},
   "outputs": [],
   "source": [
    "X_valid, X_test, Y_valid, Y_test = train_test_split(X_test,\n",
    "                                                    Y_test,\n",
    "                                                    test_size=0.5,\n",
    "                                                    random_state=7) "
   ]
  },
  {
   "cell_type": "code",
   "execution_count": 1099,
   "id": "e3ee4ae4",
   "metadata": {},
   "outputs": [
    {
     "data": {
      "text/plain": [
       "((90, 4), (30, 4), (30, 4))"
      ]
     },
     "execution_count": 1099,
     "metadata": {},
     "output_type": "execute_result"
    }
   ],
   "source": [
    "X_train.shape, X_valid.shape, X_test.shape"
   ]
  },
  {
   "cell_type": "code",
   "execution_count": 1100,
   "id": "4305a86e",
   "metadata": {},
   "outputs": [
    {
     "data": {
      "text/plain": [
       "((90,), (30,), (30,))"
      ]
     },
     "execution_count": 1100,
     "metadata": {},
     "output_type": "execute_result"
    }
   ],
   "source": [
    "Y_train.shape, Y_valid.shape, Y_test.shape"
   ]
  },
  {
   "cell_type": "code",
   "execution_count": 1101,
   "id": "c6b19351",
   "metadata": {},
   "outputs": [],
   "source": [
    "from sklearn.preprocessing import StandardScaler"
   ]
  },
  {
   "cell_type": "code",
   "execution_count": 1102,
   "id": "f65a2d1c",
   "metadata": {},
   "outputs": [],
   "source": [
    "scaler = StandardScaler()"
   ]
  },
  {
   "cell_type": "code",
   "execution_count": 1103,
   "id": "872d9341",
   "metadata": {},
   "outputs": [
    {
     "data": {
      "text/html": [
       "<style>#sk-container-id-42 {\n",
       "  /* Definition of color scheme common for light and dark mode */\n",
       "  --sklearn-color-text: black;\n",
       "  --sklearn-color-line: gray;\n",
       "  /* Definition of color scheme for unfitted estimators */\n",
       "  --sklearn-color-unfitted-level-0: #fff5e6;\n",
       "  --sklearn-color-unfitted-level-1: #f6e4d2;\n",
       "  --sklearn-color-unfitted-level-2: #ffe0b3;\n",
       "  --sklearn-color-unfitted-level-3: chocolate;\n",
       "  /* Definition of color scheme for fitted estimators */\n",
       "  --sklearn-color-fitted-level-0: #f0f8ff;\n",
       "  --sklearn-color-fitted-level-1: #d4ebff;\n",
       "  --sklearn-color-fitted-level-2: #b3dbfd;\n",
       "  --sklearn-color-fitted-level-3: cornflowerblue;\n",
       "\n",
       "  /* Specific color for light theme */\n",
       "  --sklearn-color-text-on-default-background: var(--sg-text-color, var(--theme-code-foreground, var(--jp-content-font-color1, black)));\n",
       "  --sklearn-color-background: var(--sg-background-color, var(--theme-background, var(--jp-layout-color0, white)));\n",
       "  --sklearn-color-border-box: var(--sg-text-color, var(--theme-code-foreground, var(--jp-content-font-color1, black)));\n",
       "  --sklearn-color-icon: #696969;\n",
       "\n",
       "  @media (prefers-color-scheme: dark) {\n",
       "    /* Redefinition of color scheme for dark theme */\n",
       "    --sklearn-color-text-on-default-background: var(--sg-text-color, var(--theme-code-foreground, var(--jp-content-font-color1, white)));\n",
       "    --sklearn-color-background: var(--sg-background-color, var(--theme-background, var(--jp-layout-color0, #111)));\n",
       "    --sklearn-color-border-box: var(--sg-text-color, var(--theme-code-foreground, var(--jp-content-font-color1, white)));\n",
       "    --sklearn-color-icon: #878787;\n",
       "  }\n",
       "}\n",
       "\n",
       "#sk-container-id-42 {\n",
       "  color: var(--sklearn-color-text);\n",
       "}\n",
       "\n",
       "#sk-container-id-42 pre {\n",
       "  padding: 0;\n",
       "}\n",
       "\n",
       "#sk-container-id-42 input.sk-hidden--visually {\n",
       "  border: 0;\n",
       "  clip: rect(1px 1px 1px 1px);\n",
       "  clip: rect(1px, 1px, 1px, 1px);\n",
       "  height: 1px;\n",
       "  margin: -1px;\n",
       "  overflow: hidden;\n",
       "  padding: 0;\n",
       "  position: absolute;\n",
       "  width: 1px;\n",
       "}\n",
       "\n",
       "#sk-container-id-42 div.sk-dashed-wrapped {\n",
       "  border: 1px dashed var(--sklearn-color-line);\n",
       "  margin: 0 0.4em 0.5em 0.4em;\n",
       "  box-sizing: border-box;\n",
       "  padding-bottom: 0.4em;\n",
       "  background-color: var(--sklearn-color-background);\n",
       "}\n",
       "\n",
       "#sk-container-id-42 div.sk-container {\n",
       "  /* jupyter's `normalize.less` sets `[hidden] { display: none; }`\n",
       "     but bootstrap.min.css set `[hidden] { display: none !important; }`\n",
       "     so we also need the `!important` here to be able to override the\n",
       "     default hidden behavior on the sphinx rendered scikit-learn.org.\n",
       "     See: https://github.com/scikit-learn/scikit-learn/issues/21755 */\n",
       "  display: inline-block !important;\n",
       "  position: relative;\n",
       "}\n",
       "\n",
       "#sk-container-id-42 div.sk-text-repr-fallback {\n",
       "  display: none;\n",
       "}\n",
       "\n",
       "div.sk-parallel-item,\n",
       "div.sk-serial,\n",
       "div.sk-item {\n",
       "  /* draw centered vertical line to link estimators */\n",
       "  background-image: linear-gradient(var(--sklearn-color-text-on-default-background), var(--sklearn-color-text-on-default-background));\n",
       "  background-size: 2px 100%;\n",
       "  background-repeat: no-repeat;\n",
       "  background-position: center center;\n",
       "}\n",
       "\n",
       "/* Parallel-specific style estimator block */\n",
       "\n",
       "#sk-container-id-42 div.sk-parallel-item::after {\n",
       "  content: \"\";\n",
       "  width: 100%;\n",
       "  border-bottom: 2px solid var(--sklearn-color-text-on-default-background);\n",
       "  flex-grow: 1;\n",
       "}\n",
       "\n",
       "#sk-container-id-42 div.sk-parallel {\n",
       "  display: flex;\n",
       "  align-items: stretch;\n",
       "  justify-content: center;\n",
       "  background-color: var(--sklearn-color-background);\n",
       "  position: relative;\n",
       "}\n",
       "\n",
       "#sk-container-id-42 div.sk-parallel-item {\n",
       "  display: flex;\n",
       "  flex-direction: column;\n",
       "}\n",
       "\n",
       "#sk-container-id-42 div.sk-parallel-item:first-child::after {\n",
       "  align-self: flex-end;\n",
       "  width: 50%;\n",
       "}\n",
       "\n",
       "#sk-container-id-42 div.sk-parallel-item:last-child::after {\n",
       "  align-self: flex-start;\n",
       "  width: 50%;\n",
       "}\n",
       "\n",
       "#sk-container-id-42 div.sk-parallel-item:only-child::after {\n",
       "  width: 0;\n",
       "}\n",
       "\n",
       "/* Serial-specific style estimator block */\n",
       "\n",
       "#sk-container-id-42 div.sk-serial {\n",
       "  display: flex;\n",
       "  flex-direction: column;\n",
       "  align-items: center;\n",
       "  background-color: var(--sklearn-color-background);\n",
       "  padding-right: 1em;\n",
       "  padding-left: 1em;\n",
       "}\n",
       "\n",
       "\n",
       "/* Toggleable style: style used for estimator/Pipeline/ColumnTransformer box that is\n",
       "clickable and can be expanded/collapsed.\n",
       "- Pipeline and ColumnTransformer use this feature and define the default style\n",
       "- Estimators will overwrite some part of the style using the `sk-estimator` class\n",
       "*/\n",
       "\n",
       "/* Pipeline and ColumnTransformer style (default) */\n",
       "\n",
       "#sk-container-id-42 div.sk-toggleable {\n",
       "  /* Default theme specific background. It is overwritten whether we have a\n",
       "  specific estimator or a Pipeline/ColumnTransformer */\n",
       "  background-color: var(--sklearn-color-background);\n",
       "}\n",
       "\n",
       "/* Toggleable label */\n",
       "#sk-container-id-42 label.sk-toggleable__label {\n",
       "  cursor: pointer;\n",
       "  display: block;\n",
       "  width: 100%;\n",
       "  margin-bottom: 0;\n",
       "  padding: 0.5em;\n",
       "  box-sizing: border-box;\n",
       "  text-align: center;\n",
       "}\n",
       "\n",
       "#sk-container-id-42 label.sk-toggleable__label-arrow:before {\n",
       "  /* Arrow on the left of the label */\n",
       "  content: \"▸\";\n",
       "  float: left;\n",
       "  margin-right: 0.25em;\n",
       "  color: var(--sklearn-color-icon);\n",
       "}\n",
       "\n",
       "#sk-container-id-42 label.sk-toggleable__label-arrow:hover:before {\n",
       "  color: var(--sklearn-color-text);\n",
       "}\n",
       "\n",
       "/* Toggleable content - dropdown */\n",
       "\n",
       "#sk-container-id-42 div.sk-toggleable__content {\n",
       "  max-height: 0;\n",
       "  max-width: 0;\n",
       "  overflow: hidden;\n",
       "  text-align: left;\n",
       "  /* unfitted */\n",
       "  background-color: var(--sklearn-color-unfitted-level-0);\n",
       "}\n",
       "\n",
       "#sk-container-id-42 div.sk-toggleable__content.fitted {\n",
       "  /* fitted */\n",
       "  background-color: var(--sklearn-color-fitted-level-0);\n",
       "}\n",
       "\n",
       "#sk-container-id-42 div.sk-toggleable__content pre {\n",
       "  margin: 0.2em;\n",
       "  border-radius: 0.25em;\n",
       "  color: var(--sklearn-color-text);\n",
       "  /* unfitted */\n",
       "  background-color: var(--sklearn-color-unfitted-level-0);\n",
       "}\n",
       "\n",
       "#sk-container-id-42 div.sk-toggleable__content.fitted pre {\n",
       "  /* unfitted */\n",
       "  background-color: var(--sklearn-color-fitted-level-0);\n",
       "}\n",
       "\n",
       "#sk-container-id-42 input.sk-toggleable__control:checked~div.sk-toggleable__content {\n",
       "  /* Expand drop-down */\n",
       "  max-height: 200px;\n",
       "  max-width: 100%;\n",
       "  overflow: auto;\n",
       "}\n",
       "\n",
       "#sk-container-id-42 input.sk-toggleable__control:checked~label.sk-toggleable__label-arrow:before {\n",
       "  content: \"▾\";\n",
       "}\n",
       "\n",
       "/* Pipeline/ColumnTransformer-specific style */\n",
       "\n",
       "#sk-container-id-42 div.sk-label input.sk-toggleable__control:checked~label.sk-toggleable__label {\n",
       "  color: var(--sklearn-color-text);\n",
       "  background-color: var(--sklearn-color-unfitted-level-2);\n",
       "}\n",
       "\n",
       "#sk-container-id-42 div.sk-label.fitted input.sk-toggleable__control:checked~label.sk-toggleable__label {\n",
       "  background-color: var(--sklearn-color-fitted-level-2);\n",
       "}\n",
       "\n",
       "/* Estimator-specific style */\n",
       "\n",
       "/* Colorize estimator box */\n",
       "#sk-container-id-42 div.sk-estimator input.sk-toggleable__control:checked~label.sk-toggleable__label {\n",
       "  /* unfitted */\n",
       "  background-color: var(--sklearn-color-unfitted-level-2);\n",
       "}\n",
       "\n",
       "#sk-container-id-42 div.sk-estimator.fitted input.sk-toggleable__control:checked~label.sk-toggleable__label {\n",
       "  /* fitted */\n",
       "  background-color: var(--sklearn-color-fitted-level-2);\n",
       "}\n",
       "\n",
       "#sk-container-id-42 div.sk-label label.sk-toggleable__label,\n",
       "#sk-container-id-42 div.sk-label label {\n",
       "  /* The background is the default theme color */\n",
       "  color: var(--sklearn-color-text-on-default-background);\n",
       "}\n",
       "\n",
       "/* On hover, darken the color of the background */\n",
       "#sk-container-id-42 div.sk-label:hover label.sk-toggleable__label {\n",
       "  color: var(--sklearn-color-text);\n",
       "  background-color: var(--sklearn-color-unfitted-level-2);\n",
       "}\n",
       "\n",
       "/* Label box, darken color on hover, fitted */\n",
       "#sk-container-id-42 div.sk-label.fitted:hover label.sk-toggleable__label.fitted {\n",
       "  color: var(--sklearn-color-text);\n",
       "  background-color: var(--sklearn-color-fitted-level-2);\n",
       "}\n",
       "\n",
       "/* Estimator label */\n",
       "\n",
       "#sk-container-id-42 div.sk-label label {\n",
       "  font-family: monospace;\n",
       "  font-weight: bold;\n",
       "  display: inline-block;\n",
       "  line-height: 1.2em;\n",
       "}\n",
       "\n",
       "#sk-container-id-42 div.sk-label-container {\n",
       "  text-align: center;\n",
       "}\n",
       "\n",
       "/* Estimator-specific */\n",
       "#sk-container-id-42 div.sk-estimator {\n",
       "  font-family: monospace;\n",
       "  border: 1px dotted var(--sklearn-color-border-box);\n",
       "  border-radius: 0.25em;\n",
       "  box-sizing: border-box;\n",
       "  margin-bottom: 0.5em;\n",
       "  /* unfitted */\n",
       "  background-color: var(--sklearn-color-unfitted-level-0);\n",
       "}\n",
       "\n",
       "#sk-container-id-42 div.sk-estimator.fitted {\n",
       "  /* fitted */\n",
       "  background-color: var(--sklearn-color-fitted-level-0);\n",
       "}\n",
       "\n",
       "/* on hover */\n",
       "#sk-container-id-42 div.sk-estimator:hover {\n",
       "  /* unfitted */\n",
       "  background-color: var(--sklearn-color-unfitted-level-2);\n",
       "}\n",
       "\n",
       "#sk-container-id-42 div.sk-estimator.fitted:hover {\n",
       "  /* fitted */\n",
       "  background-color: var(--sklearn-color-fitted-level-2);\n",
       "}\n",
       "\n",
       "/* Specification for estimator info (e.g. \"i\" and \"?\") */\n",
       "\n",
       "/* Common style for \"i\" and \"?\" */\n",
       "\n",
       ".sk-estimator-doc-link,\n",
       "a:link.sk-estimator-doc-link,\n",
       "a:visited.sk-estimator-doc-link {\n",
       "  float: right;\n",
       "  font-size: smaller;\n",
       "  line-height: 1em;\n",
       "  font-family: monospace;\n",
       "  background-color: var(--sklearn-color-background);\n",
       "  border-radius: 1em;\n",
       "  height: 1em;\n",
       "  width: 1em;\n",
       "  text-decoration: none !important;\n",
       "  margin-left: 1ex;\n",
       "  /* unfitted */\n",
       "  border: var(--sklearn-color-unfitted-level-1) 1pt solid;\n",
       "  color: var(--sklearn-color-unfitted-level-1);\n",
       "}\n",
       "\n",
       ".sk-estimator-doc-link.fitted,\n",
       "a:link.sk-estimator-doc-link.fitted,\n",
       "a:visited.sk-estimator-doc-link.fitted {\n",
       "  /* fitted */\n",
       "  border: var(--sklearn-color-fitted-level-1) 1pt solid;\n",
       "  color: var(--sklearn-color-fitted-level-1);\n",
       "}\n",
       "\n",
       "/* On hover */\n",
       "div.sk-estimator:hover .sk-estimator-doc-link:hover,\n",
       ".sk-estimator-doc-link:hover,\n",
       "div.sk-label-container:hover .sk-estimator-doc-link:hover,\n",
       ".sk-estimator-doc-link:hover {\n",
       "  /* unfitted */\n",
       "  background-color: var(--sklearn-color-unfitted-level-3);\n",
       "  color: var(--sklearn-color-background);\n",
       "  text-decoration: none;\n",
       "}\n",
       "\n",
       "div.sk-estimator.fitted:hover .sk-estimator-doc-link.fitted:hover,\n",
       ".sk-estimator-doc-link.fitted:hover,\n",
       "div.sk-label-container:hover .sk-estimator-doc-link.fitted:hover,\n",
       ".sk-estimator-doc-link.fitted:hover {\n",
       "  /* fitted */\n",
       "  background-color: var(--sklearn-color-fitted-level-3);\n",
       "  color: var(--sklearn-color-background);\n",
       "  text-decoration: none;\n",
       "}\n",
       "\n",
       "/* Span, style for the box shown on hovering the info icon */\n",
       ".sk-estimator-doc-link span {\n",
       "  display: none;\n",
       "  z-index: 9999;\n",
       "  position: relative;\n",
       "  font-weight: normal;\n",
       "  right: .2ex;\n",
       "  padding: .5ex;\n",
       "  margin: .5ex;\n",
       "  width: min-content;\n",
       "  min-width: 20ex;\n",
       "  max-width: 50ex;\n",
       "  color: var(--sklearn-color-text);\n",
       "  box-shadow: 2pt 2pt 4pt #999;\n",
       "  /* unfitted */\n",
       "  background: var(--sklearn-color-unfitted-level-0);\n",
       "  border: .5pt solid var(--sklearn-color-unfitted-level-3);\n",
       "}\n",
       "\n",
       ".sk-estimator-doc-link.fitted span {\n",
       "  /* fitted */\n",
       "  background: var(--sklearn-color-fitted-level-0);\n",
       "  border: var(--sklearn-color-fitted-level-3);\n",
       "}\n",
       "\n",
       ".sk-estimator-doc-link:hover span {\n",
       "  display: block;\n",
       "}\n",
       "\n",
       "/* \"?\"-specific style due to the `<a>` HTML tag */\n",
       "\n",
       "#sk-container-id-42 a.estimator_doc_link {\n",
       "  float: right;\n",
       "  font-size: 1rem;\n",
       "  line-height: 1em;\n",
       "  font-family: monospace;\n",
       "  background-color: var(--sklearn-color-background);\n",
       "  border-radius: 1rem;\n",
       "  height: 1rem;\n",
       "  width: 1rem;\n",
       "  text-decoration: none;\n",
       "  /* unfitted */\n",
       "  color: var(--sklearn-color-unfitted-level-1);\n",
       "  border: var(--sklearn-color-unfitted-level-1) 1pt solid;\n",
       "}\n",
       "\n",
       "#sk-container-id-42 a.estimator_doc_link.fitted {\n",
       "  /* fitted */\n",
       "  border: var(--sklearn-color-fitted-level-1) 1pt solid;\n",
       "  color: var(--sklearn-color-fitted-level-1);\n",
       "}\n",
       "\n",
       "/* On hover */\n",
       "#sk-container-id-42 a.estimator_doc_link:hover {\n",
       "  /* unfitted */\n",
       "  background-color: var(--sklearn-color-unfitted-level-3);\n",
       "  color: var(--sklearn-color-background);\n",
       "  text-decoration: none;\n",
       "}\n",
       "\n",
       "#sk-container-id-42 a.estimator_doc_link.fitted:hover {\n",
       "  /* fitted */\n",
       "  background-color: var(--sklearn-color-fitted-level-3);\n",
       "}\n",
       "</style><div id=\"sk-container-id-42\" class=\"sk-top-container\"><div class=\"sk-text-repr-fallback\"><pre>StandardScaler()</pre><b>In a Jupyter environment, please rerun this cell to show the HTML representation or trust the notebook. <br />On GitHub, the HTML representation is unable to render, please try loading this page with nbviewer.org.</b></div><div class=\"sk-container\" hidden><div class=\"sk-item\"><div class=\"sk-estimator fitted sk-toggleable\"><input class=\"sk-toggleable__control sk-hidden--visually\" id=\"sk-estimator-id-42\" type=\"checkbox\" checked><label for=\"sk-estimator-id-42\" class=\"sk-toggleable__label fitted sk-toggleable__label-arrow fitted\">&nbsp;&nbsp;StandardScaler<a class=\"sk-estimator-doc-link fitted\" rel=\"noreferrer\" target=\"_blank\" href=\"https://scikit-learn.org/1.4/modules/generated/sklearn.preprocessing.StandardScaler.html\">?<span>Documentation for StandardScaler</span></a><span class=\"sk-estimator-doc-link fitted\">i<span>Fitted</span></span></label><div class=\"sk-toggleable__content fitted\"><pre>StandardScaler()</pre></div> </div></div></div></div>"
      ],
      "text/plain": [
       "StandardScaler()"
      ]
     },
     "execution_count": 1103,
     "metadata": {},
     "output_type": "execute_result"
    }
   ],
   "source": [
    "scaler.fit(X_train)"
   ]
  },
  {
   "cell_type": "code",
   "execution_count": 1104,
   "id": "e60e2e2c",
   "metadata": {},
   "outputs": [],
   "source": [
    "X_train = scaler.transform(X_train)\n",
    "X_valid = scaler.transform(X_valid)\n",
    "X_test = scaler.transform(X_test)"
   ]
  },
  {
   "cell_type": "code",
   "execution_count": 1105,
   "id": "3d6ebfc4",
   "metadata": {},
   "outputs": [
    {
     "data": {
      "text/plain": [
       "array([[-1.03412082,  0.99571559, -1.20196482, -0.77770727],\n",
       "       [ 1.02069068,  0.08360971,  0.54282282,  0.39755931],\n",
       "       [ 1.74591826, -0.37244324,  1.44335838,  0.78931484],\n",
       "       [-0.4297645 , -1.05652265,  0.3739724 ,  0.00580379],\n",
       "       [-0.79237829, -0.82849618,  0.09255504,  0.26697414],\n",
       "       [-0.18802197,  3.04795383, -1.25824829, -1.03887762],\n",
       "       [ 1.625047  ,  0.31163618,  1.27450796,  0.78931484],\n",
       "       [-0.55063576,  0.76768912, -1.14568135, -1.30004797],\n",
       "       [-0.0671507 ,  2.13584794, -1.42709871, -1.30004797],\n",
       "       [ 0.29546309, -1.05652265,  1.04937407,  0.26697414],\n",
       "       [-0.18802197, -1.28454912,  0.71167324,  1.05048519],\n",
       "       [-1.27586335, -0.14441676, -1.31453176, -1.43063314],\n",
       "       [ 0.77894815, -0.14441676,  1.16194102,  1.31165554],\n",
       "       [-1.51760588,  0.31163618, -1.31453176, -1.30004797],\n",
       "       [ 0.89981941, -0.37244324,  0.48653935,  0.13638896],\n",
       "       [ 1.02069068, -0.14441676,  0.82424018,  1.44224071],\n",
       "       [ 0.29546309, -0.14441676,  0.48653935,  0.26697414],\n",
       "       [-0.18802197,  1.679795  , -1.14568135, -1.16946279],\n",
       "       [ 1.38330447,  0.31163618,  0.54282282,  0.26697414],\n",
       "       [-1.39673461,  0.31163618, -1.37081523, -1.30004797],\n",
       "       [ 0.77894815, -0.14441676,  0.82424018,  1.05048519],\n",
       "       [ 2.22940332, -1.05652265,  1.78105921,  1.44224071],\n",
       "       [-1.15499208, -1.51257559, -0.24514579, -0.25536656],\n",
       "       [-1.27586335,  0.08360971, -1.20196482, -1.30004797],\n",
       "       [-0.4297645 ,  2.59190089, -1.31453176, -1.30004797],\n",
       "       [-0.30889323, -0.14441676,  0.20512199,  0.13638896],\n",
       "       [ 0.65807688,  0.31163618,  0.88052365,  1.44224071],\n",
       "       [-0.79237829,  0.99571559, -1.25824829, -1.30004797],\n",
       "       [ 2.47114585,  1.679795  ,  1.49964185,  1.05048519],\n",
       "       [-0.0671507 , -0.60046971,  0.76795671,  1.57282589],\n",
       "       [-0.18802197, -0.37244324,  0.26140546,  0.13638896],\n",
       "       [-0.91324955,  1.45176853, -1.25824829, -1.03887762],\n",
       "       [-0.91324955, -1.28454912, -0.41399621, -0.12478139],\n",
       "       [-1.03412082,  0.76768912, -1.25824829, -1.30004797],\n",
       "       [ 2.22940332, -0.60046971,  1.66849227,  1.05048519],\n",
       "       [ 2.10853206, -0.14441676,  1.61220879,  1.18107036],\n",
       "       [-1.03412082,  0.31163618, -1.42709871, -1.30004797],\n",
       "       [-0.55063576,  1.45176853, -1.25824829, -1.30004797],\n",
       "       [ 1.02069068,  0.53966265,  1.10565754,  1.70341106],\n",
       "       [ 0.29546309, -0.60046971,  0.14883852,  0.13638896],\n",
       "       [ 0.53720562, -1.28454912,  0.71167324,  0.91990001],\n",
       "       [ 1.86678953, -0.60046971,  1.33079143,  0.91990001],\n",
       "       [-1.03412082, -1.74060206, -0.24514579, -0.25536656],\n",
       "       [-0.55063576,  0.76768912, -1.25824829, -1.03887762],\n",
       "       [-0.55063576,  1.90782147, -1.37081523, -1.03887762],\n",
       "       [-0.30889323, -0.60046971,  0.65538977,  1.05048519],\n",
       "       [-1.15499208, -0.14441676, -1.31453176, -1.30004797],\n",
       "       [-0.67150702,  1.45176853, -1.25824829, -1.30004797],\n",
       "       [ 0.17459183, -0.82849618,  0.76795671,  0.52814449],\n",
       "       [ 1.14156194,  0.31163618,  1.21822449,  1.44224071],\n",
       "       [ 0.41633436,  0.76768912,  0.93680713,  1.44224071],\n",
       "       [-0.18802197, -0.60046971,  0.20512199,  0.13638896],\n",
       "       [ 0.53720562, -1.74060206,  0.3739724 ,  0.13638896],\n",
       "       [-1.15499208,  0.08360971, -1.25824829, -1.43063314],\n",
       "       [ 1.26243321,  0.08360971,  0.76795671,  1.44224071],\n",
       "       [-1.03412082,  1.22374206, -1.31453176, -1.30004797],\n",
       "       [-1.7593484 , -0.14441676, -1.37081523, -1.30004797],\n",
       "       [ 0.17459183, -0.37244324,  0.43025588,  0.39755931],\n",
       "       [ 0.29546309, -0.60046971,  0.54282282,  0.00580379],\n",
       "       [ 0.65807688, -0.60046971,  1.04937407,  1.18107036],\n",
       "       [-1.15499208,  0.08360971, -1.25824829, -1.30004797],\n",
       "       [-0.30889323, -0.37244324, -0.07629537,  0.13638896],\n",
       "       [ 0.05372056, -0.14441676,  0.26140546,  0.39755931],\n",
       "       [ 0.53720562, -0.82849618,  0.65538977,  0.78931484],\n",
       "       [ 1.14156194, -0.14441676,  0.9930906 ,  1.18107036],\n",
       "       [-0.4297645 , -1.74060206,  0.14883852,  0.13638896],\n",
       "       [ 0.53720562, -0.60046971,  0.76795671,  0.39755931],\n",
       "       [-1.27586335,  0.76768912, -1.0331144 , -1.30004797],\n",
       "       [ 0.53720562,  0.53966265,  0.54282282,  0.52814449],\n",
       "       [-0.30889323, -1.28454912,  0.09255504, -0.12478139],\n",
       "       [-0.91324955,  1.679795  , -1.0331144 , -1.03887762],\n",
       "       [-0.91324955,  1.679795  , -1.25824829, -1.16946279],\n",
       "       [-1.51760588,  0.76768912, -1.31453176, -1.16946279],\n",
       "       [-0.18802197, -0.60046971,  0.43025588,  0.13638896],\n",
       "       [ 0.89981941, -0.14441676,  0.3739724 ,  0.26697414],\n",
       "       [-0.91324955,  0.99571559, -1.31453176, -1.30004797],\n",
       "       [ 2.22940332, -0.14441676,  1.33079143,  1.44224071],\n",
       "       [ 0.29546309, -0.14441676,  0.65538977,  0.78931484],\n",
       "       [ 0.41633436, -1.96862853,  0.43025588,  0.39755931],\n",
       "       [ 0.53720562,  0.76768912,  1.04937407,  1.57282589],\n",
       "       [-1.7593484 ,  0.31163618, -1.37081523, -1.30004797],\n",
       "       [ 0.77894815,  0.31163618,  0.76795671,  1.05048519],\n",
       "       [-0.4297645 , -1.28454912,  0.14883852,  0.13638896],\n",
       "       [ 0.53720562, -1.28454912,  0.65538977,  0.39755931],\n",
       "       [-0.91324955,  0.53966265, -1.14568135, -0.90829244],\n",
       "       [-0.0671507 , -0.82849618,  0.76795671,  0.91990001],\n",
       "       [-0.0671507 , -1.05652265,  0.14883852,  0.00580379],\n",
       "       [ 0.53720562, -0.37244324,  1.04937407,  0.78931484],\n",
       "       [-0.0671507 , -0.82849618,  0.20512199, -0.25536656],\n",
       "       [-1.03412082, -0.14441676, -1.20196482, -1.30004797]])"
      ]
     },
     "execution_count": 1105,
     "metadata": {},
     "output_type": "execute_result"
    }
   ],
   "source": [
    "X_train"
   ]
  },
  {
   "cell_type": "code",
   "execution_count": 1106,
   "id": "a6b627ad",
   "metadata": {},
   "outputs": [],
   "source": [
    "X_train = torch.tensor(X_train, dtype=torch.float32)\n",
    "Y_train = torch.tensor(Y_train, dtype=torch.long)\n",
    "\n",
    "X_valid = torch.tensor(X_valid, dtype=torch.float32)\n",
    "Y_valid = torch.tensor(Y_valid, dtype=torch.long)\n",
    "\n",
    "X_test = torch.tensor(X_test,dtype=torch.float32)\n",
    "Y_test = torch.tensor(Y_test, dtype=torch.long)"
   ]
  },
  {
   "cell_type": "code",
   "execution_count": 1107,
   "id": "f780650c",
   "metadata": {},
   "outputs": [
    {
     "data": {
      "text/plain": [
       "Sequential(\n",
       "  (0): Linear(in_features=4, out_features=8, bias=True)\n",
       "  (1): ReLU()\n",
       "  (2): Linear(in_features=8, out_features=16, bias=True)\n",
       "  (3): ReLU()\n",
       "  (4): Linear(in_features=16, out_features=16, bias=True)\n",
       "  (5): ReLU()\n",
       "  (6): Linear(in_features=16, out_features=8, bias=True)\n",
       "  (7): ReLU()\n",
       "  (8): Linear(in_features=8, out_features=3, bias=True)\n",
       ")"
      ]
     },
     "execution_count": 1107,
     "metadata": {},
     "output_type": "execute_result"
    }
   ],
   "source": [
    "model = nn.Sequential(\n",
    "    nn.Linear(4, 8),\n",
    "    nn.ReLU(),\n",
    "    nn.Linear(8, 16),\n",
    "    nn.ReLU(),\n",
    "    nn.Linear(16, 16),\n",
    "    nn.ReLU(),\n",
    "    nn.Linear(16, 8),\n",
    "    nn.ReLU(),\n",
    "    nn.Linear(8, 3)\n",
    ")\n",
    "model"
   ]
  },
  {
   "cell_type": "code",
   "execution_count": 1108,
   "id": "0571ea7c",
   "metadata": {},
   "outputs": [
    {
     "name": "stdout",
     "output_type": "stream",
     "text": [
      "----------------------------------------------------------------\n",
      "        Layer (type)               Output Shape         Param #\n",
      "================================================================\n",
      "            Linear-1                [-1, 90, 8]              40\n",
      "              ReLU-2                [-1, 90, 8]               0\n",
      "            Linear-3               [-1, 90, 16]             144\n",
      "              ReLU-4               [-1, 90, 16]               0\n",
      "            Linear-5               [-1, 90, 16]             272\n",
      "              ReLU-6               [-1, 90, 16]               0\n",
      "            Linear-7                [-1, 90, 8]             136\n",
      "              ReLU-8                [-1, 90, 8]               0\n",
      "            Linear-9                [-1, 90, 3]              27\n",
      "================================================================\n",
      "Total params: 619\n",
      "Trainable params: 619\n",
      "Non-trainable params: 0\n",
      "----------------------------------------------------------------\n",
      "Input size (MB): 0.00\n",
      "Forward/backward pass size (MB): 0.07\n",
      "Params size (MB): 0.00\n",
      "Estimated Total Size (MB): 0.07\n",
      "----------------------------------------------------------------\n"
     ]
    }
   ],
   "source": [
    "summary(model, (90,4))"
   ]
  },
  {
   "cell_type": "code",
   "execution_count": 1109,
   "id": "052b7399",
   "metadata": {},
   "outputs": [
    {
     "data": {
      "text/plain": [
       "tensor([-1.0341,  0.9957, -1.2020, -0.7777])"
      ]
     },
     "execution_count": 1109,
     "metadata": {},
     "output_type": "execute_result"
    }
   ],
   "source": [
    "X_train[0]"
   ]
  },
  {
   "cell_type": "code",
   "execution_count": 1110,
   "id": "0758d532",
   "metadata": {},
   "outputs": [
    {
     "data": {
      "text/plain": [
       "tensor([ 0.0637, -0.2561,  0.0035], grad_fn=<ViewBackward0>)"
      ]
     },
     "execution_count": 1110,
     "metadata": {},
     "output_type": "execute_result"
    }
   ],
   "source": [
    "y_pred = model(X_train[0])\n",
    "y_pred"
   ]
  },
  {
   "cell_type": "code",
   "execution_count": 1111,
   "id": "d1739154",
   "metadata": {},
   "outputs": [
    {
     "data": {
      "text/plain": [
       "tensor(0)"
      ]
     },
     "execution_count": 1111,
     "metadata": {},
     "output_type": "execute_result"
    }
   ],
   "source": [
    "Y_train[0]"
   ]
  },
  {
   "cell_type": "code",
   "execution_count": 1112,
   "id": "a9f94d45",
   "metadata": {},
   "outputs": [],
   "source": [
    "loss_fn = nn.CrossEntropyLoss()"
   ]
  },
  {
   "cell_type": "code",
   "execution_count": 1113,
   "id": "87ad1ca3",
   "metadata": {},
   "outputs": [],
   "source": [
    "learning_rate = 0.01\n",
    "\n",
    "optimizer = optim.SGD(model.parameters(),\n",
    "                      learning_rate)"
   ]
  },
  {
   "cell_type": "code",
   "execution_count": 1114,
   "id": "46de7bc6",
   "metadata": {},
   "outputs": [],
   "source": [
    "def evaluate(model, X_valid, Y_valid):\n",
    "    with torch.no_grad():\n",
    "        Y_pred = model(X_valid)\n",
    "    Y_pred = torch.argmax(Y_pred, dim=1)\n",
    "    return sum(Y_pred == Y_valid) / len(Y_valid)"
   ]
  },
  {
   "cell_type": "code",
   "execution_count": 1115,
   "id": "bc4a45c5",
   "metadata": {},
   "outputs": [
    {
     "data": {
      "text/plain": [
       "tensor(0.2667)"
      ]
     },
     "execution_count": 1115,
     "metadata": {},
     "output_type": "execute_result"
    }
   ],
   "source": [
    "evaluate(model, X_valid, Y_valid)"
   ]
  },
  {
   "cell_type": "code",
   "execution_count": 1116,
   "id": "8b0127c2",
   "metadata": {},
   "outputs": [
    {
     "name": "stdout",
     "output_type": "stream",
     "text": [
      "Epoch: 0- Loss: 1.1035462101300557 - Acc: 0.2666666805744171\n",
      "Epoch: 1- Loss: 1.0981315082973904 - Acc: 0.2666666805744171\n",
      "Epoch: 2- Loss: 1.0929762529002296 - Acc: 0.2666666805744171\n",
      "Epoch: 3- Loss: 1.0868095146285164 - Acc: 0.2666666805744171\n",
      "Epoch: 4- Loss: 1.0767398946815068 - Acc: 0.36666667461395264\n",
      "Epoch: 5- Loss: 1.0562799831231435 - Acc: 0.6666666865348816\n",
      "Epoch: 6- Loss: 1.0085437569353315 - Acc: 0.6000000238418579\n",
      "Epoch: 7- Loss: 0.8959625595145755 - Acc: 0.5666666626930237\n",
      "Epoch: 8- Loss: 0.7468642609814803 - Acc: 0.5666666626930237\n",
      "Epoch: 9- Loss: 0.6610524080486762 - Acc: 0.5666666626930237\n",
      "Epoch: 10- Loss: 0.6131470042384333 - Acc: 0.6000000238418579\n",
      "Epoch: 11- Loss: 0.5798774342932221 - Acc: 0.7333333492279053\n",
      "Epoch: 12- Loss: 0.5549129816677628 - Acc: 0.6333333253860474\n",
      "Epoch: 13- Loss: 0.535227116144314 - Acc: 0.6666666865348816\n",
      "Epoch: 14- Loss: 0.5197188972818872 - Acc: 0.6666666865348816\n",
      "Epoch: 15- Loss: 0.5068797683155734 - Acc: 0.6666666865348816\n",
      "Epoch: 16- Loss: 0.49590764909322993 - Acc: 0.6666666865348816\n",
      "Epoch: 17- Loss: 0.48610290517681276 - Acc: 0.6333333253860474\n",
      "Epoch: 18- Loss: 0.4768895301840126 - Acc: 0.699999988079071\n",
      "Epoch: 19- Loss: 0.4675429320410735 - Acc: 0.699999988079071\n",
      "Epoch: 20- Loss: 0.45746590503929635 - Acc: 0.699999988079071\n",
      "Epoch: 21- Loss: 0.44572321902556317 - Acc: 0.699999988079071\n",
      "Epoch: 22- Loss: 0.4315342628374411 - Acc: 0.699999988079071\n",
      "Epoch: 23- Loss: 0.4139914401474218 - Acc: 0.7333333492279053\n",
      "Epoch: 24- Loss: 0.39269874030538227 - Acc: 0.7333333492279053\n",
      "Epoch: 25- Loss: 0.36805343878962354 - Acc: 0.7333333492279053\n",
      "Epoch: 26- Loss: 0.3416025899313859 - Acc: 0.7666666507720947\n",
      "Epoch: 27- Loss: 0.31568065398783396 - Acc: 0.7666666507720947\n",
      "Epoch: 28- Loss: 0.29168940042636676 - Acc: 0.7666666507720947\n",
      "Epoch: 29- Loss: 0.2703008453096522 - Acc: 0.7666666507720947\n",
      "Epoch: 30- Loss: 0.25135307288963105 - Acc: 0.7666666507720947\n",
      "Epoch: 31- Loss: 0.23376387992483513 - Acc: 0.7666666507720947\n",
      "Epoch: 32- Loss: 0.2174174183842701 - Acc: 0.7666666507720947\n",
      "Epoch: 33- Loss: 0.20122181307536569 - Acc: 0.7666666507720947\n",
      "Epoch: 34- Loss: 0.18517100724742097 - Acc: 0.7666666507720947\n",
      "Epoch: 35- Loss: 0.16872152963992954 - Acc: 0.8333333134651184\n",
      "Epoch: 36- Loss: 0.151559969536528 - Acc: 0.8666666746139526\n",
      "Epoch: 37- Loss: 0.13433319991557557 - Acc: 0.8666666746139526\n",
      "Epoch: 38- Loss: 0.11871736374031469 - Acc: 0.8999999761581421\n",
      "Epoch: 39- Loss: 0.10498578929315651 - Acc: 0.8999999761581421\n",
      "Epoch: 40- Loss: 0.09322598651290011 - Acc: 0.9333333373069763\n",
      "Epoch: 41- Loss: 0.08376632012591471 - Acc: 0.9333333373069763\n",
      "Epoch: 42- Loss: 0.07678024762447724 - Acc: 0.9333333373069763\n",
      "Epoch: 43- Loss: 0.0718583916784054 - Acc: 0.9333333373069763\n",
      "Epoch: 44- Loss: 0.06859432966530221 - Acc: 0.9333333373069763\n",
      "Epoch: 45- Loss: 0.06606400867970781 - Acc: 0.9333333373069763\n",
      "Epoch: 46- Loss: 0.06423041956753776 - Acc: 0.9333333373069763\n",
      "Epoch: 47- Loss: 0.06282056623007419 - Acc: 0.9333333373069763\n",
      "Epoch: 48- Loss: 0.0616948763241453 - Acc: 0.9333333373069763\n",
      "Epoch: 49- Loss: 0.060823142192950604 - Acc: 0.9333333373069763\n"
     ]
    }
   ],
   "source": [
    "num_epoch = 50\n",
    "losses = []\n",
    "accs = []\n",
    "\n",
    "for epoch in range(num_epoch):\n",
    "    epoch_loss = []\n",
    "    for x_train, y_train in zip(X_train, Y_train):\n",
    "\n",
    "        y_pred = model(x_train)\n",
    "\n",
    "        loss = loss_fn(y_pred, y_train)\n",
    "        epoch_loss.append(loss.item())\n",
    "\n",
    "        optimizer.zero_grad()\n",
    "        loss.backward()\n",
    "        optimizer.step()\n",
    "    avg_loss = sum(epoch_loss) / len(epoch_loss)\n",
    "    losses.append(avg_loss)\n",
    "    acc_vaild = evaluate(model, X_valid, Y_valid)\n",
    "    accs.append(acc_vaild.item())\n",
    "    print(f'Epoch: {epoch}- Loss: {avg_loss} - Acc: {acc_vaild}')"
   ]
  },
  {
   "cell_type": "code",
   "execution_count": 1117,
   "id": "3dfe691e",
   "metadata": {},
   "outputs": [
    {
     "data": {
      "text/plain": [
       "tensor([[-0.1880, -1.0565, -0.1326, -0.2554],\n",
       "        [-0.0672, -0.8285,  0.0926,  0.0058],\n",
       "        [-1.7593, -0.3724, -1.3145, -1.3000],\n",
       "        [ 0.6581,  0.0836,  0.9931,  0.7893],\n",
       "        [ 1.0207, -0.1444,  0.7117,  0.6587],\n",
       "        [-0.1880, -0.1444,  0.2614,  0.0058],\n",
       "        [ 0.6581, -0.3724,  0.3177,  0.1364],\n",
       "        [ 0.0537,  0.3116,  0.5991,  0.7893],\n",
       "        [ 1.2624,  0.3116,  1.1057,  1.4422],\n",
       "        [ 0.4163, -0.6005,  0.5991,  0.7893],\n",
       "        [-0.5506,  1.9078, -1.1457, -1.0389],\n",
       "        [-1.0341,  0.5397, -1.3145, -1.3000],\n",
       "        [-0.7924,  2.3639, -1.2582, -1.4306],\n",
       "        [ 1.6250,  1.2237,  1.3308,  1.7034],\n",
       "        [-0.4298, -1.5126,  0.0363, -0.1248],\n",
       "        [-0.9132,  1.6798, -1.2020, -1.3000],\n",
       "        [-1.5176,  1.2237, -1.5397, -1.3000],\n",
       "        [-0.5506, -0.1444,  0.4303,  0.3976],\n",
       "        [ 1.0207, -1.2845,  1.1619,  0.7893],\n",
       "        [-1.2759, -0.1444, -1.3145, -1.1695],\n",
       "        [ 0.7789, -0.1444,  0.9931,  0.7893],\n",
       "        [ 0.2955, -0.3724,  0.5428,  0.2670],\n",
       "        [-0.4298, -1.5126, -0.0200, -0.2554],\n",
       "        [-1.3967,  0.3116, -1.2020, -1.3000],\n",
       "        [ 1.0207,  0.0836,  1.0494,  1.5728],\n",
       "        [-0.9132,  0.7677, -1.2582, -1.3000],\n",
       "        [ 1.0207,  0.5397,  1.1057,  1.1811],\n",
       "        [-0.4298,  0.9957, -1.3708, -1.3000],\n",
       "        [-1.5176,  0.0836, -1.2582, -1.3000],\n",
       "        [ 0.6581,  0.3116,  0.4303,  0.3976]])"
      ]
     },
     "execution_count": 1117,
     "metadata": {},
     "output_type": "execute_result"
    }
   ],
   "source": [
    "X_test"
   ]
  },
  {
   "cell_type": "code",
   "execution_count": 1118,
   "id": "0fc6e742",
   "metadata": {},
   "outputs": [],
   "source": [
    "with torch.no_grad():\n",
    "    Y_pred = model(X_test)"
   ]
  },
  {
   "cell_type": "code",
   "execution_count": 1119,
   "id": "1e6e6c27",
   "metadata": {},
   "outputs": [
    {
     "data": {
      "text/plain": [
       "tensor([[-1.9081,  3.3139, -1.2004],\n",
       "        [-1.9296,  3.3163, -1.1992],\n",
       "        [ 6.2798,  0.7324, -3.7381],\n",
       "        [-5.0460, -0.8511,  2.8761],\n",
       "        [-4.0860,  0.5480,  1.5208],\n",
       "        [-1.5804,  3.2734, -1.3805],\n",
       "        [-1.8779,  3.3169, -1.2564],\n",
       "        [-3.8924,  0.7767,  1.3158],\n",
       "        [-6.5765, -2.4021,  4.6828],\n",
       "        [-4.4466,  0.0866,  1.9570],\n",
       "        [ 9.4434, -0.1603, -4.8507],\n",
       "        [ 7.5856,  0.3909, -4.2261],\n",
       "        [11.7632, -0.9059, -5.6098],\n",
       "        [-6.8595, -2.7363,  5.0841],\n",
       "        [-1.9178,  3.3176, -1.1978],\n",
       "        [10.0591, -0.4064, -5.0253],\n",
       "        [10.5919, -0.6076, -5.1810],\n",
       "        [-2.7520,  2.5786, -0.4167],\n",
       "        [-5.4151, -1.3281,  3.3398],\n",
       "        [ 5.9042,  0.8993, -3.6527],\n",
       "        [-5.2220, -1.0663,  3.0757],\n",
       "        [-2.9856,  2.2807, -0.1325],\n",
       "        [-1.9175,  3.3188, -1.1980],\n",
       "        [ 7.3233,  0.4057, -4.0980],\n",
       "        [-6.8715, -2.6610,  5.0052],\n",
       "        [ 7.8830,  0.3199, -4.3385],\n",
       "        [-5.7819, -1.7639,  3.8657],\n",
       "        [ 7.8900,  0.3975, -4.3895],\n",
       "        [ 7.0089,  0.4973, -3.9847],\n",
       "        [-1.7223,  2.5817, -0.9209]])"
      ]
     },
     "execution_count": 1119,
     "metadata": {},
     "output_type": "execute_result"
    }
   ],
   "source": [
    "Y_pred"
   ]
  },
  {
   "cell_type": "code",
   "execution_count": 1120,
   "id": "d63f37a8",
   "metadata": {},
   "outputs": [],
   "source": [
    "Y_pred = torch.argmax(Y_pred,dim=1)"
   ]
  },
  {
   "cell_type": "code",
   "execution_count": 1121,
   "id": "32bf6402",
   "metadata": {},
   "outputs": [
    {
     "data": {
      "text/plain": [
       "tensor([1, 1, 0, 2, 2, 1, 1, 2, 2, 2, 0, 0, 0, 2, 1, 0, 0, 1, 2, 0, 2, 1, 1, 0,\n",
       "        2, 0, 2, 0, 0, 1])"
      ]
     },
     "execution_count": 1121,
     "metadata": {},
     "output_type": "execute_result"
    }
   ],
   "source": [
    "Y_pred"
   ]
  },
  {
   "cell_type": "code",
   "execution_count": 1122,
   "id": "684b6e66",
   "metadata": {},
   "outputs": [
    {
     "data": {
      "text/plain": [
       "tensor(0.9333)"
      ]
     },
     "execution_count": 1122,
     "metadata": {},
     "output_type": "execute_result"
    }
   ],
   "source": [
    "sum(Y_pred == Y_test) / len(Y_test)"
   ]
  }
 ],
 "metadata": {
  "kernelspec": {
   "display_name": "Python 3",
   "language": "python",
   "name": "python3"
  },
  "language_info": {
   "codemirror_mode": {
    "name": "ipython",
    "version": 3
   },
   "file_extension": ".py",
   "mimetype": "text/x-python",
   "name": "python",
   "nbconvert_exporter": "python",
   "pygments_lexer": "ipython3",
   "version": "3.11.8"
  }
 },
 "nbformat": 4,
 "nbformat_minor": 5
}
